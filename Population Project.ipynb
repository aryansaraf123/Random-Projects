{
 "cells": [
  {
   "cell_type": "markdown",
   "id": "0f3760e0",
   "metadata": {},
   "source": [
    "# Objectives of this project\n",
    "\n",
    "#### 1st Part - Have to clean the dataframe and gotta find out the top 10 most populated countries and represent them in the form of a graph.\n",
    "#### 2nd part - Again, have to clean the dataframe and gotta find out the top 10 least populated countries and represent them in the form of a bar graph."
   ]
  },
  {
   "cell_type": "code",
   "execution_count": 228,
   "id": "5bc492ab",
   "metadata": {},
   "outputs": [],
   "source": [
    "# Import all the necessary libraries\n",
    "import pandas as pd\n",
    "import numpy as np\n",
    "import matplotlib.pyplot as plt\n",
    "\n",
    "# Let's write the lines of code which will suppress any warning error if occur in our code\n",
    "def warn(*args, **kwargs):\n",
    "    pass\n",
    "import warnings\n",
    "warnings.warn = warn\n",
    "warnings.filterwarnings(\"ignore\")"
   ]
  },
  {
   "cell_type": "code",
   "execution_count": 229,
   "id": "01128062",
   "metadata": {},
   "outputs": [],
   "source": [
    "# Let's assign the URL\n",
    "URL = \"https://en.wikipedia.org/wiki/List_of_countries_by_population_(United_Nations)\""
   ]
  },
  {
   "cell_type": "code",
   "execution_count": 230,
   "id": "293e31d5",
   "metadata": {},
   "outputs": [
    {
     "data": {
      "text/html": [
       "<div>\n",
       "<style scoped>\n",
       "    .dataframe tbody tr th:only-of-type {\n",
       "        vertical-align: middle;\n",
       "    }\n",
       "\n",
       "    .dataframe tbody tr th {\n",
       "        vertical-align: top;\n",
       "    }\n",
       "\n",
       "    .dataframe thead th {\n",
       "        text-align: right;\n",
       "    }\n",
       "</style>\n",
       "<table border=\"1\" class=\"dataframe\">\n",
       "  <thead>\n",
       "    <tr style=\"text-align: right;\">\n",
       "      <th></th>\n",
       "      <th>Location</th>\n",
       "      <th>Population (1 July 2022)</th>\n",
       "      <th>Population (1 July 2023)</th>\n",
       "      <th>Change</th>\n",
       "      <th>UN Continental Region[1]</th>\n",
       "      <th>UN Statistical Subregion[1]</th>\n",
       "    </tr>\n",
       "  </thead>\n",
       "  <tbody>\n",
       "    <tr>\n",
       "      <th>0</th>\n",
       "      <td>World</td>\n",
       "      <td>7975105156</td>\n",
       "      <td>8045311448</td>\n",
       "      <td>+0.88%</td>\n",
       "      <td>NaN</td>\n",
       "      <td>NaN</td>\n",
       "    </tr>\n",
       "    <tr>\n",
       "      <th>1</th>\n",
       "      <td>India</td>\n",
       "      <td>1417173173</td>\n",
       "      <td>1428627663</td>\n",
       "      <td>+0.81%</td>\n",
       "      <td>Asia</td>\n",
       "      <td>Southern Asia</td>\n",
       "    </tr>\n",
       "    <tr>\n",
       "      <th>2</th>\n",
       "      <td>China[a]</td>\n",
       "      <td>1425887337</td>\n",
       "      <td>1425671352</td>\n",
       "      <td>−0.02%</td>\n",
       "      <td>Asia</td>\n",
       "      <td>Eastern Asia</td>\n",
       "    </tr>\n",
       "    <tr>\n",
       "      <th>3</th>\n",
       "      <td>United States</td>\n",
       "      <td>338289857</td>\n",
       "      <td>339996564</td>\n",
       "      <td>+0.50%</td>\n",
       "      <td>Americas</td>\n",
       "      <td>Northern America</td>\n",
       "    </tr>\n",
       "    <tr>\n",
       "      <th>4</th>\n",
       "      <td>Indonesia</td>\n",
       "      <td>275501339</td>\n",
       "      <td>277534123</td>\n",
       "      <td>+0.74%</td>\n",
       "      <td>Asia</td>\n",
       "      <td>South-eastern Asia</td>\n",
       "    </tr>\n",
       "  </tbody>\n",
       "</table>\n",
       "</div>"
      ],
      "text/plain": [
       "        Location  Population (1 July 2022)  Population (1 July 2023)  Change  \\\n",
       "0          World                7975105156                8045311448  +0.88%   \n",
       "1          India                1417173173                1428627663  +0.81%   \n",
       "2       China[a]                1425887337                1425671352  −0.02%   \n",
       "3  United States                 338289857                 339996564  +0.50%   \n",
       "4      Indonesia                 275501339                 277534123  +0.74%   \n",
       "\n",
       "  UN Continental Region[1] UN Statistical Subregion[1]  \n",
       "0                      NaN                         NaN  \n",
       "1                     Asia               Southern Asia  \n",
       "2                     Asia                Eastern Asia  \n",
       "3                 Americas            Northern America  \n",
       "4                     Asia          South-eastern Asia  "
      ]
     },
     "execution_count": 230,
     "metadata": {},
     "output_type": "execute_result"
    }
   ],
   "source": [
    "# Let's load the data from this above mentioned URL\n",
    "table = pd.read_html(URL)\n",
    "df = table[0]\n",
    "df.head()"
   ]
  },
  {
   "cell_type": "markdown",
   "id": "c8d7bf3e",
   "metadata": {},
   "source": [
    "**We will use the two columns `Location` and `Population (1 July 2023)` for this fascinating project. And I'll probably also rename these both columns. So notice carefully.**"
   ]
  },
  {
   "cell_type": "code",
   "execution_count": 231,
   "id": "e6658fb2",
   "metadata": {
    "scrolled": true
   },
   "outputs": [
    {
     "data": {
      "text/plain": [
       "Location                       object\n",
       "Population (1 July 2022)        int64\n",
       "Population (1 July 2023)        int64\n",
       "Change                         object\n",
       "UN Continental Region[1]       object\n",
       "UN Statistical Subregion[1]    object\n",
       "dtype: object"
      ]
     },
     "execution_count": 231,
     "metadata": {},
     "output_type": "execute_result"
    }
   ],
   "source": [
    "# Let's check the datatype of all the columns\n",
    "df.dtypes"
   ]
  },
  {
   "cell_type": "markdown",
   "id": "55fe04e1",
   "metadata": {},
   "source": [
    "# 1st Part (TOP 10 MOST POPULOUS COUNTRIES)"
   ]
  },
  {
   "cell_type": "code",
   "execution_count": 232,
   "id": "edd5f51b",
   "metadata": {},
   "outputs": [],
   "source": [
    "# Convert the header names with header numbers\n",
    "df.columns = range(df.shape[1])\n",
    "\n",
    "# Let's select the column no. 1 and 3 i.e index[0 and 2]\n",
    "df = df[[0,2]]\n",
    "\n",
    "# Only select the starting 10 rows\n",
    "df = df.iloc[1:11]\n",
    "\n",
    "# Let's assign the name to both the selected columns\n",
    "df.columns = [\"Country\", \"Population\"]"
   ]
  },
  {
   "cell_type": "code",
   "execution_count": 233,
   "id": "73389a56",
   "metadata": {},
   "outputs": [
    {
     "data": {
      "text/html": [
       "<div>\n",
       "<style scoped>\n",
       "    .dataframe tbody tr th:only-of-type {\n",
       "        vertical-align: middle;\n",
       "    }\n",
       "\n",
       "    .dataframe tbody tr th {\n",
       "        vertical-align: top;\n",
       "    }\n",
       "\n",
       "    .dataframe thead th {\n",
       "        text-align: right;\n",
       "    }\n",
       "</style>\n",
       "<table border=\"1\" class=\"dataframe\">\n",
       "  <thead>\n",
       "    <tr style=\"text-align: right;\">\n",
       "      <th></th>\n",
       "      <th>Country</th>\n",
       "      <th>Population</th>\n",
       "    </tr>\n",
       "  </thead>\n",
       "  <tbody>\n",
       "    <tr>\n",
       "      <th>1</th>\n",
       "      <td>India</td>\n",
       "      <td>1428627663</td>\n",
       "    </tr>\n",
       "    <tr>\n",
       "      <th>2</th>\n",
       "      <td>China[a]</td>\n",
       "      <td>1425671352</td>\n",
       "    </tr>\n",
       "    <tr>\n",
       "      <th>3</th>\n",
       "      <td>United States</td>\n",
       "      <td>339996564</td>\n",
       "    </tr>\n",
       "    <tr>\n",
       "      <th>4</th>\n",
       "      <td>Indonesia</td>\n",
       "      <td>277534123</td>\n",
       "    </tr>\n",
       "    <tr>\n",
       "      <th>5</th>\n",
       "      <td>Pakistan</td>\n",
       "      <td>240485658</td>\n",
       "    </tr>\n",
       "    <tr>\n",
       "      <th>6</th>\n",
       "      <td>Nigeria</td>\n",
       "      <td>223804632</td>\n",
       "    </tr>\n",
       "    <tr>\n",
       "      <th>7</th>\n",
       "      <td>Brazil</td>\n",
       "      <td>216422446</td>\n",
       "    </tr>\n",
       "    <tr>\n",
       "      <th>8</th>\n",
       "      <td>Bangladesh</td>\n",
       "      <td>172954319</td>\n",
       "    </tr>\n",
       "    <tr>\n",
       "      <th>9</th>\n",
       "      <td>Russia</td>\n",
       "      <td>144444359</td>\n",
       "    </tr>\n",
       "    <tr>\n",
       "      <th>10</th>\n",
       "      <td>Mexico</td>\n",
       "      <td>128455567</td>\n",
       "    </tr>\n",
       "  </tbody>\n",
       "</table>\n",
       "</div>"
      ],
      "text/plain": [
       "          Country  Population\n",
       "1           India  1428627663\n",
       "2        China[a]  1425671352\n",
       "3   United States   339996564\n",
       "4       Indonesia   277534123\n",
       "5        Pakistan   240485658\n",
       "6         Nigeria   223804632\n",
       "7          Brazil   216422446\n",
       "8      Bangladesh   172954319\n",
       "9          Russia   144444359\n",
       "10         Mexico   128455567"
      ]
     },
     "execution_count": 233,
     "metadata": {},
     "output_type": "execute_result"
    }
   ],
   "source": [
    "df"
   ]
  },
  {
   "cell_type": "code",
   "execution_count": 234,
   "id": "090dfe15",
   "metadata": {},
   "outputs": [
    {
     "data": {
      "text/html": [
       "<div>\n",
       "<style scoped>\n",
       "    .dataframe tbody tr th:only-of-type {\n",
       "        vertical-align: middle;\n",
       "    }\n",
       "\n",
       "    .dataframe tbody tr th {\n",
       "        vertical-align: top;\n",
       "    }\n",
       "\n",
       "    .dataframe thead th {\n",
       "        text-align: right;\n",
       "    }\n",
       "</style>\n",
       "<table border=\"1\" class=\"dataframe\">\n",
       "  <thead>\n",
       "    <tr style=\"text-align: right;\">\n",
       "      <th></th>\n",
       "      <th>Country</th>\n",
       "      <th>Population</th>\n",
       "    </tr>\n",
       "  </thead>\n",
       "  <tbody>\n",
       "    <tr>\n",
       "      <th>1</th>\n",
       "      <td>India</td>\n",
       "      <td>1428627663</td>\n",
       "    </tr>\n",
       "    <tr>\n",
       "      <th>2</th>\n",
       "      <td>China</td>\n",
       "      <td>1425671352</td>\n",
       "    </tr>\n",
       "    <tr>\n",
       "      <th>3</th>\n",
       "      <td>United States</td>\n",
       "      <td>339996564</td>\n",
       "    </tr>\n",
       "    <tr>\n",
       "      <th>4</th>\n",
       "      <td>Indonesia</td>\n",
       "      <td>277534123</td>\n",
       "    </tr>\n",
       "    <tr>\n",
       "      <th>5</th>\n",
       "      <td>Pakistan</td>\n",
       "      <td>240485658</td>\n",
       "    </tr>\n",
       "    <tr>\n",
       "      <th>6</th>\n",
       "      <td>Nigeria</td>\n",
       "      <td>223804632</td>\n",
       "    </tr>\n",
       "    <tr>\n",
       "      <th>7</th>\n",
       "      <td>Brazil</td>\n",
       "      <td>216422446</td>\n",
       "    </tr>\n",
       "    <tr>\n",
       "      <th>8</th>\n",
       "      <td>Bangladesh</td>\n",
       "      <td>172954319</td>\n",
       "    </tr>\n",
       "    <tr>\n",
       "      <th>9</th>\n",
       "      <td>Russia</td>\n",
       "      <td>144444359</td>\n",
       "    </tr>\n",
       "    <tr>\n",
       "      <th>10</th>\n",
       "      <td>Mexico</td>\n",
       "      <td>128455567</td>\n",
       "    </tr>\n",
       "  </tbody>\n",
       "</table>\n",
       "</div>"
      ],
      "text/plain": [
       "          Country  Population\n",
       "1           India  1428627663\n",
       "2           China  1425671352\n",
       "3   United States   339996564\n",
       "4       Indonesia   277534123\n",
       "5        Pakistan   240485658\n",
       "6         Nigeria   223804632\n",
       "7          Brazil   216422446\n",
       "8      Bangladesh   172954319\n",
       "9          Russia   144444359\n",
       "10         Mexico   128455567"
      ]
     },
     "execution_count": 234,
     "metadata": {},
     "output_type": "execute_result"
    }
   ],
   "source": [
    "# Let's rename the 2nd value of first coloumn\n",
    "df.iloc[1,0] = \"China\"\n",
    "df"
   ]
  },
  {
   "cell_type": "markdown",
   "id": "93ad2d40",
   "metadata": {},
   "source": [
    "## TOP 10 MOST POPULOUS COUNTRIES"
   ]
  },
  {
   "cell_type": "code",
   "execution_count": 235,
   "id": "9cb47d76",
   "metadata": {},
   "outputs": [
    {
     "data": {
      "image/png": "[encoded data removed]",
      "text/plain": [
       "<Figure size 1000x600 with 1 Axes>"
      ]
     },
     "metadata": {},
     "output_type": "display_data"
    }
   ],
   "source": [
    "plt.figure(figsize=(10,6))\n",
    "plt.bar(df[\"Country\"], df[\"Population\"],\n",
    "        color=[\"#8B0000\", \"#A00000\", \"#B80000\", \"#D00000\", \"#E80000\", \"#FF0000\", \"#FF1A1A\", \"#FF3333\", \"#FF4C4C\", \"#FF6666\"], edgecolor=\"k\", linewidth=2)\n",
    "plt.title(\"TOP 10 MOST POPULOUS COUNTRIES\", fontweight=\"bold\", fontsize=20)\n",
    "plt.xlabel(\"Countries\", fontweight=\"bold\", fontsize=15)\n",
    "plt.ylabel(\"Population\", fontweight=\"bold\", fontsize=15)\n",
    "plt.xticks(fontweight=\"bold\", fontsize=8)\n",
    "plt.yticks(fontweight=\"bold\")\n",
    "plt.show()"
   ]
  },
  {
   "cell_type": "markdown",
   "id": "82a3105b",
   "metadata": {},
   "source": [
    "**The darker the color, the higher the population, and the lighter the color, the lower the population.**"
   ]
  },
  {
   "cell_type": "markdown",
   "id": "bb668259",
   "metadata": {},
   "source": [
    "# 2nd Part (10 Least Populous Countries)"
   ]
  },
  {
   "cell_type": "code",
   "execution_count": 236,
   "id": "36499246",
   "metadata": {},
   "outputs": [],
   "source": [
    "URL = \"https://en.wikipedia.org/wiki/List_of_countries_by_population_(United_Nations)\""
   ]
  },
  {
   "cell_type": "code",
   "execution_count": 237,
   "id": "51f29a19",
   "metadata": {},
   "outputs": [
    {
     "data": {
      "text/html": [
       "<div>\n",
       "<style scoped>\n",
       "    .dataframe tbody tr th:only-of-type {\n",
       "        vertical-align: middle;\n",
       "    }\n",
       "\n",
       "    .dataframe tbody tr th {\n",
       "        vertical-align: top;\n",
       "    }\n",
       "\n",
       "    .dataframe thead th {\n",
       "        text-align: right;\n",
       "    }\n",
       "</style>\n",
       "<table border=\"1\" class=\"dataframe\">\n",
       "  <thead>\n",
       "    <tr style=\"text-align: right;\">\n",
       "      <th></th>\n",
       "      <th>Location</th>\n",
       "      <th>Population (1 July 2022)</th>\n",
       "      <th>Population (1 July 2023)</th>\n",
       "      <th>Change</th>\n",
       "      <th>UN Continental Region[1]</th>\n",
       "      <th>UN Statistical Subregion[1]</th>\n",
       "    </tr>\n",
       "  </thead>\n",
       "  <tbody>\n",
       "    <tr>\n",
       "      <th>234</th>\n",
       "      <td>Falkland Islands (United Kingdom)</td>\n",
       "      <td>3780</td>\n",
       "      <td>3791</td>\n",
       "      <td>+0.29%</td>\n",
       "      <td>Americas</td>\n",
       "      <td>South America</td>\n",
       "    </tr>\n",
       "    <tr>\n",
       "      <th>235</th>\n",
       "      <td>Niue</td>\n",
       "      <td>1934</td>\n",
       "      <td>1935</td>\n",
       "      <td>+0.05%</td>\n",
       "      <td>Oceania</td>\n",
       "      <td>Polynesia</td>\n",
       "    </tr>\n",
       "    <tr>\n",
       "      <th>236</th>\n",
       "      <td>Tokelau (New Zealand)</td>\n",
       "      <td>1871</td>\n",
       "      <td>1893</td>\n",
       "      <td>+1.18%</td>\n",
       "      <td>Oceania</td>\n",
       "      <td>Polynesia</td>\n",
       "    </tr>\n",
       "    <tr>\n",
       "      <th>237</th>\n",
       "      <td>Vatican City[x]</td>\n",
       "      <td>510</td>\n",
       "      <td>518</td>\n",
       "      <td>NaN</td>\n",
       "      <td>Europe</td>\n",
       "      <td>Southern Europe</td>\n",
       "    </tr>\n",
       "    <tr>\n",
       "      <th>238</th>\n",
       "      <td>Pitcairn Islands (United Kingdom)</td>\n",
       "      <td>55</td>\n",
       "      <td>45</td>\n",
       "      <td>-18.1818%</td>\n",
       "      <td>Oceania</td>\n",
       "      <td>Polynesia</td>\n",
       "    </tr>\n",
       "  </tbody>\n",
       "</table>\n",
       "</div>"
      ],
      "text/plain": [
       "                              Location  Population (1 July 2022)  \\\n",
       "234  Falkland Islands (United Kingdom)                      3780   \n",
       "235                               Niue                      1934   \n",
       "236              Tokelau (New Zealand)                      1871   \n",
       "237                    Vatican City[x]                       510   \n",
       "238  Pitcairn Islands (United Kingdom)                        55   \n",
       "\n",
       "     Population (1 July 2023)     Change UN Continental Region[1]  \\\n",
       "234                      3791     +0.29%                 Americas   \n",
       "235                      1935     +0.05%                  Oceania   \n",
       "236                      1893     +1.18%                  Oceania   \n",
       "237                       518        NaN                   Europe   \n",
       "238                        45  -18.1818%                  Oceania   \n",
       "\n",
       "    UN Statistical Subregion[1]  \n",
       "234               South America  \n",
       "235                   Polynesia  \n",
       "236                   Polynesia  \n",
       "237             Southern Europe  \n",
       "238                   Polynesia  "
      ]
     },
     "execution_count": 237,
     "metadata": {},
     "output_type": "execute_result"
    }
   ],
   "source": [
    "table = pd.read_html(URL)\n",
    "df = table[0]\n",
    "df.tail()"
   ]
  },
  {
   "cell_type": "code",
   "execution_count": 238,
   "id": "2732b591",
   "metadata": {},
   "outputs": [],
   "source": [
    "# Same, convert the header names with header numbers\n",
    "df.columns = range(df.shape[1])\n",
    "\n",
    "# Same, select the column no. 1 and 3 i.e index[0 and 2]\n",
    "df = df[[0,2]]\n",
    "\n",
    "# Select the lest populated countries\n",
    "df = df.iloc[229:239]     # I can also use this here df.tail(10)\n",
    "\n",
    "# Same, assign the name to the columns\n",
    "df.columns = [\"Country\", \"Population\"]"
   ]
  },
  {
   "cell_type": "code",
   "execution_count": 239,
   "id": "fe3ad7eb",
   "metadata": {},
   "outputs": [
    {
     "data": {
      "text/html": [
       "<div>\n",
       "<style scoped>\n",
       "    .dataframe tbody tr th:only-of-type {\n",
       "        vertical-align: middle;\n",
       "    }\n",
       "\n",
       "    .dataframe tbody tr th {\n",
       "        vertical-align: top;\n",
       "    }\n",
       "\n",
       "    .dataframe thead th {\n",
       "        text-align: right;\n",
       "    }\n",
       "</style>\n",
       "<table border=\"1\" class=\"dataframe\">\n",
       "  <thead>\n",
       "    <tr style=\"text-align: right;\">\n",
       "      <th></th>\n",
       "      <th>Country</th>\n",
       "      <th>Population</th>\n",
       "    </tr>\n",
       "  </thead>\n",
       "  <tbody>\n",
       "    <tr>\n",
       "      <th>229</th>\n",
       "      <td>Tuvalu</td>\n",
       "      <td>11396</td>\n",
       "    </tr>\n",
       "    <tr>\n",
       "      <th>230</th>\n",
       "      <td>Saint Barthélemy (France)</td>\n",
       "      <td>10994</td>\n",
       "    </tr>\n",
       "    <tr>\n",
       "      <th>231</th>\n",
       "      <td>Saint Pierre and Miquelon (France)</td>\n",
       "      <td>5840</td>\n",
       "    </tr>\n",
       "    <tr>\n",
       "      <th>232</th>\n",
       "      <td>Saint Helena (United Kingdom)[w]</td>\n",
       "      <td>5314</td>\n",
       "    </tr>\n",
       "    <tr>\n",
       "      <th>233</th>\n",
       "      <td>Montserrat (United Kingdom)</td>\n",
       "      <td>4387</td>\n",
       "    </tr>\n",
       "    <tr>\n",
       "      <th>234</th>\n",
       "      <td>Falkland Islands (United Kingdom)</td>\n",
       "      <td>3791</td>\n",
       "    </tr>\n",
       "    <tr>\n",
       "      <th>235</th>\n",
       "      <td>Niue</td>\n",
       "      <td>1935</td>\n",
       "    </tr>\n",
       "    <tr>\n",
       "      <th>236</th>\n",
       "      <td>Tokelau (New Zealand)</td>\n",
       "      <td>1893</td>\n",
       "    </tr>\n",
       "    <tr>\n",
       "      <th>237</th>\n",
       "      <td>Vatican City[x]</td>\n",
       "      <td>518</td>\n",
       "    </tr>\n",
       "    <tr>\n",
       "      <th>238</th>\n",
       "      <td>Pitcairn Islands (United Kingdom)</td>\n",
       "      <td>45</td>\n",
       "    </tr>\n",
       "  </tbody>\n",
       "</table>\n",
       "</div>"
      ],
      "text/plain": [
       "                                Country  Population\n",
       "229                              Tuvalu       11396\n",
       "230           Saint Barthélemy (France)       10994\n",
       "231  Saint Pierre and Miquelon (France)        5840\n",
       "232    Saint Helena (United Kingdom)[w]        5314\n",
       "233         Montserrat (United Kingdom)        4387\n",
       "234   Falkland Islands (United Kingdom)        3791\n",
       "235                                Niue        1935\n",
       "236               Tokelau (New Zealand)        1893\n",
       "237                     Vatican City[x]         518\n",
       "238   Pitcairn Islands (United Kingdom)          45"
      ]
     },
     "execution_count": 239,
     "metadata": {},
     "output_type": "execute_result"
    }
   ],
   "source": [
    "df"
   ]
  },
  {
   "cell_type": "code",
   "execution_count": 240,
   "id": "71a70fc9",
   "metadata": {},
   "outputs": [
    {
     "data": {
      "image/png": "[encoded data removed]",
      "text/plain": [
       "<Figure size 1000x600 with 1 Axes>"
      ]
     },
     "metadata": {},
     "output_type": "display_data"
    }
   ],
   "source": [
    "plt.figure(figsize=(10,6))\n",
    "plt.bar(df[\"Country\"], df[\"Population\"],\n",
    "        color = [\"#000080\", \"#1919A6\", \"#3232CD\", \"#4B4BF5\", \"#6464FF\", \"#7D7DFF\", \"#9696FF\", \"#B0B0FF\", \"#CBCBFF\", \"#E5E5FF\"], edgecolor=\"k\", linewidth=2)\n",
    "plt.title(\"Top 10 Least Populous countries\", fontweight=\"bold\", fontsize=20)\n",
    "plt.xlabel(\"Country\", fontweight=\"bold\", fontsize=15)\n",
    "plt.ylabel(\"Population\", fontweight=\"bold\", fontsize=15)\n",
    "plt.xticks(rotation=90, fontweight=\"bold\")\n",
    "plt.yticks(fontweight=\"bold\")\n",
    "plt.show()"
   ]
  },
  {
   "cell_type": "markdown",
   "id": "662e13f5",
   "metadata": {},
   "source": [
    "**The lighter the color, the lower the population and the darker the color, the higher the population.**"
   ]
  },
  {
   "cell_type": "markdown",
   "id": "fb025a23",
   "metadata": {},
   "source": [
    "# Thank you :)"
   ]
  },
  {
   "cell_type": "code",
   "execution_count": null,
   "id": "91a63586",
   "metadata": {},
   "outputs": [],
   "source": []
  }
 ],
 "metadata": {
  "kernelspec": {
   "display_name": "Python 3 (ipykernel)",
   "language": "python",
   "name": "python3"
  },
  "language_info": {
   "codemirror_mode": {
    "name": "ipython",
    "version": 3
   },
   "file_extension": ".py",
   "mimetype": "text/x-python",
   "name": "python",
   "nbconvert_exporter": "python",
   "pygments_lexer": "ipython3",
   "version": "3.11.5"
  }
 },
 "nbformat": 4,
 "nbformat_minor": 5
}
